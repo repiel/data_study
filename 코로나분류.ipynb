{
  "nbformat": 4,
  "nbformat_minor": 0,
  "metadata": {
    "colab": {
      "provenance": [],
      "authorship_tag": "ABX9TyO0Y81e+uuIhGylPk2+OGvi",
      "include_colab_link": true
    },
    "kernelspec": {
      "name": "python3",
      "display_name": "Python 3"
    },
    "language_info": {
      "name": "python"
    }
  },
  "cells": [
    {
      "cell_type": "markdown",
      "metadata": {
        "id": "view-in-github",
        "colab_type": "text"
      },
      "source": [
        "<a href=\"https://colab.research.google.com/github/repiel/data_study/blob/main/%EC%BD%94%EB%A1%9C%EB%82%98%EB%B6%84%EB%A5%98.ipynb\" target=\"_parent\"><img src=\"https://colab.research.google.com/assets/colab-badge.svg\" alt=\"Open In Colab\"/></a>"
      ]
    },
    {
      "cell_type": "markdown",
      "source": [
        "\n",
        "1.데이터 살펴보기\n",
        "\n",
        "-데이터 집합 정보\n",
        "캘리포니아 공중보건부(CDPH)는 CDPH 게놈 감시 데이터와 CDPH의 전염성 질병 보고 및 감시 시스템인 CalREDIE를 분석하여 순환하는 SARS-CoV-2 변종의 유병률을 확인하고 있다. 바이러스는 시간이 지남에 따라 새로운 변종이나 변종으로 변이한다. 어떤 변종들은 나타났다가 사라진다. 다른 변종들은 흔해지고 오랫동안 순환한다. 몇몇 전문 연구소는 어떤 변종이 순환하고 있는지를 결정하기 위해 모든 양성 COVID-19 테스트의 일부 유전체를 배열한다. 변종 결과의 염기서열 분석과 보고는 검사가 코로나19 양성으로 확인된 후 며칠이 걸린다. COVID-19 양성 검사의 모든 바이러스가 서열화된 것은 아니다. 캘리포니아에서 어떤 변종이 유통되고 있는지 아는 것은 공중 보건과 임상 행동에 정보를 제공한다."
      ],
      "metadata": {
        "id": "wHh_e7OxgBMF"
      }
    },
    {
      "cell_type": "code",
      "execution_count": 2,
      "metadata": {
        "id": "FTmsGFKEd3b3"
      },
      "outputs": [],
      "source": [
        "import pandas as pd\n",
        "import numpy as np\n",
        "import matplotlib\n",
        "import matplotlib.pyplot as plt\n",
        "import seaborn as sns\n",
        "import missingno as msno\n",
        "import warnings"
      ]
    },
    {
      "cell_type": "code",
      "source": [
        "covid = pd.read_csv('covid19_variant.csv')\n",
        "print(covid.shape)\n",
        "covid.head(7)\n"
      ],
      "metadata": {
        "colab": {
          "base_uri": "https://localhost:8080/",
          "height": 453
        },
        "id": "sIqy6OL_eHNc",
        "outputId": "58fc178d-d075-4a1a-af8a-7d96e2e1e730"
      },
      "execution_count": 4,
      "outputs": [
        {
          "output_type": "stream",
          "name": "stdout",
          "text": [
            "(7790, 8)\n"
          ]
        },
        {
          "output_type": "execute_result",
          "data": {
            "text/plain": [
              "         date        area area_type variant_name  specimens  percentage  \\\n",
              "0  01-01-2021  California     State        Alpha          1        1.69   \n",
              "1  01-01-2021  California     State       Lambda          0        0.00   \n",
              "2  01-01-2021  California     State        Other         29       49.15   \n",
              "3  01-01-2021  California     State      Epsilon         28       47.46   \n",
              "4  01-01-2021  California     State      Omicron          1        1.69   \n",
              "5  01-01-2021  California     State         Beta          0        0.00   \n",
              "6  01-01-2021  California     State        Total         59      100.00   \n",
              "\n",
              "   specimens_7d_avg  percentage_7d_avg  \n",
              "0               NaN                NaN  \n",
              "1               NaN                NaN  \n",
              "2               NaN                NaN  \n",
              "3               NaN                NaN  \n",
              "4               NaN                NaN  \n",
              "5               NaN                NaN  \n",
              "6               NaN                NaN  "
            ],
            "text/html": [
              "\n",
              "  <div id=\"df-65e5e187-f5b5-4fdc-9dc6-dc2463997848\">\n",
              "    <div class=\"colab-df-container\">\n",
              "      <div>\n",
              "<style scoped>\n",
              "    .dataframe tbody tr th:only-of-type {\n",
              "        vertical-align: middle;\n",
              "    }\n",
              "\n",
              "    .dataframe tbody tr th {\n",
              "        vertical-align: top;\n",
              "    }\n",
              "\n",
              "    .dataframe thead th {\n",
              "        text-align: right;\n",
              "    }\n",
              "</style>\n",
              "<table border=\"1\" class=\"dataframe\">\n",
              "  <thead>\n",
              "    <tr style=\"text-align: right;\">\n",
              "      <th></th>\n",
              "      <th>date</th>\n",
              "      <th>area</th>\n",
              "      <th>area_type</th>\n",
              "      <th>variant_name</th>\n",
              "      <th>specimens</th>\n",
              "      <th>percentage</th>\n",
              "      <th>specimens_7d_avg</th>\n",
              "      <th>percentage_7d_avg</th>\n",
              "    </tr>\n",
              "  </thead>\n",
              "  <tbody>\n",
              "    <tr>\n",
              "      <th>0</th>\n",
              "      <td>01-01-2021</td>\n",
              "      <td>California</td>\n",
              "      <td>State</td>\n",
              "      <td>Alpha</td>\n",
              "      <td>1</td>\n",
              "      <td>1.69</td>\n",
              "      <td>NaN</td>\n",
              "      <td>NaN</td>\n",
              "    </tr>\n",
              "    <tr>\n",
              "      <th>1</th>\n",
              "      <td>01-01-2021</td>\n",
              "      <td>California</td>\n",
              "      <td>State</td>\n",
              "      <td>Lambda</td>\n",
              "      <td>0</td>\n",
              "      <td>0.00</td>\n",
              "      <td>NaN</td>\n",
              "      <td>NaN</td>\n",
              "    </tr>\n",
              "    <tr>\n",
              "      <th>2</th>\n",
              "      <td>01-01-2021</td>\n",
              "      <td>California</td>\n",
              "      <td>State</td>\n",
              "      <td>Other</td>\n",
              "      <td>29</td>\n",
              "      <td>49.15</td>\n",
              "      <td>NaN</td>\n",
              "      <td>NaN</td>\n",
              "    </tr>\n",
              "    <tr>\n",
              "      <th>3</th>\n",
              "      <td>01-01-2021</td>\n",
              "      <td>California</td>\n",
              "      <td>State</td>\n",
              "      <td>Epsilon</td>\n",
              "      <td>28</td>\n",
              "      <td>47.46</td>\n",
              "      <td>NaN</td>\n",
              "      <td>NaN</td>\n",
              "    </tr>\n",
              "    <tr>\n",
              "      <th>4</th>\n",
              "      <td>01-01-2021</td>\n",
              "      <td>California</td>\n",
              "      <td>State</td>\n",
              "      <td>Omicron</td>\n",
              "      <td>1</td>\n",
              "      <td>1.69</td>\n",
              "      <td>NaN</td>\n",
              "      <td>NaN</td>\n",
              "    </tr>\n",
              "    <tr>\n",
              "      <th>5</th>\n",
              "      <td>01-01-2021</td>\n",
              "      <td>California</td>\n",
              "      <td>State</td>\n",
              "      <td>Beta</td>\n",
              "      <td>0</td>\n",
              "      <td>0.00</td>\n",
              "      <td>NaN</td>\n",
              "      <td>NaN</td>\n",
              "    </tr>\n",
              "    <tr>\n",
              "      <th>6</th>\n",
              "      <td>01-01-2021</td>\n",
              "      <td>California</td>\n",
              "      <td>State</td>\n",
              "      <td>Total</td>\n",
              "      <td>59</td>\n",
              "      <td>100.00</td>\n",
              "      <td>NaN</td>\n",
              "      <td>NaN</td>\n",
              "    </tr>\n",
              "  </tbody>\n",
              "</table>\n",
              "</div>\n",
              "      <button class=\"colab-df-convert\" onclick=\"convertToInteractive('df-65e5e187-f5b5-4fdc-9dc6-dc2463997848')\"\n",
              "              title=\"Convert this dataframe to an interactive table.\"\n",
              "              style=\"display:none;\">\n",
              "        \n",
              "  <svg xmlns=\"http://www.w3.org/2000/svg\" height=\"24px\"viewBox=\"0 0 24 24\"\n",
              "       width=\"24px\">\n",
              "    <path d=\"M0 0h24v24H0V0z\" fill=\"none\"/>\n",
              "    <path d=\"M18.56 5.44l.94 2.06.94-2.06 2.06-.94-2.06-.94-.94-2.06-.94 2.06-2.06.94zm-11 1L8.5 8.5l.94-2.06 2.06-.94-2.06-.94L8.5 2.5l-.94 2.06-2.06.94zm10 10l.94 2.06.94-2.06 2.06-.94-2.06-.94-.94-2.06-.94 2.06-2.06.94z\"/><path d=\"M17.41 7.96l-1.37-1.37c-.4-.4-.92-.59-1.43-.59-.52 0-1.04.2-1.43.59L10.3 9.45l-7.72 7.72c-.78.78-.78 2.05 0 2.83L4 21.41c.39.39.9.59 1.41.59.51 0 1.02-.2 1.41-.59l7.78-7.78 2.81-2.81c.8-.78.8-2.07 0-2.86zM5.41 20L4 18.59l7.72-7.72 1.47 1.35L5.41 20z\"/>\n",
              "  </svg>\n",
              "      </button>\n",
              "      \n",
              "  <style>\n",
              "    .colab-df-container {\n",
              "      display:flex;\n",
              "      flex-wrap:wrap;\n",
              "      gap: 12px;\n",
              "    }\n",
              "\n",
              "    .colab-df-convert {\n",
              "      background-color: #E8F0FE;\n",
              "      border: none;\n",
              "      border-radius: 50%;\n",
              "      cursor: pointer;\n",
              "      display: none;\n",
              "      fill: #1967D2;\n",
              "      height: 32px;\n",
              "      padding: 0 0 0 0;\n",
              "      width: 32px;\n",
              "    }\n",
              "\n",
              "    .colab-df-convert:hover {\n",
              "      background-color: #E2EBFA;\n",
              "      box-shadow: 0px 1px 2px rgba(60, 64, 67, 0.3), 0px 1px 3px 1px rgba(60, 64, 67, 0.15);\n",
              "      fill: #174EA6;\n",
              "    }\n",
              "\n",
              "    [theme=dark] .colab-df-convert {\n",
              "      background-color: #3B4455;\n",
              "      fill: #D2E3FC;\n",
              "    }\n",
              "\n",
              "    [theme=dark] .colab-df-convert:hover {\n",
              "      background-color: #434B5C;\n",
              "      box-shadow: 0px 1px 3px 1px rgba(0, 0, 0, 0.15);\n",
              "      filter: drop-shadow(0px 1px 2px rgba(0, 0, 0, 0.3));\n",
              "      fill: #FFFFFF;\n",
              "    }\n",
              "  </style>\n",
              "\n",
              "      <script>\n",
              "        const buttonEl =\n",
              "          document.querySelector('#df-65e5e187-f5b5-4fdc-9dc6-dc2463997848 button.colab-df-convert');\n",
              "        buttonEl.style.display =\n",
              "          google.colab.kernel.accessAllowed ? 'block' : 'none';\n",
              "\n",
              "        async function convertToInteractive(key) {\n",
              "          const element = document.querySelector('#df-65e5e187-f5b5-4fdc-9dc6-dc2463997848');\n",
              "          const dataTable =\n",
              "            await google.colab.kernel.invokeFunction('convertToInteractive',\n",
              "                                                     [key], {});\n",
              "          if (!dataTable) return;\n",
              "\n",
              "          const docLinkHtml = 'Like what you see? Visit the ' +\n",
              "            '<a target=\"_blank\" href=https://colab.research.google.com/notebooks/data_table.ipynb>data table notebook</a>'\n",
              "            + ' to learn more about interactive tables.';\n",
              "          element.innerHTML = '';\n",
              "          dataTable['output_type'] = 'display_data';\n",
              "          await google.colab.output.renderOutput(dataTable, element);\n",
              "          const docLink = document.createElement('div');\n",
              "          docLink.innerHTML = docLinkHtml;\n",
              "          element.appendChild(docLink);\n",
              "        }\n",
              "      </script>\n",
              "    </div>\n",
              "  </div>\n",
              "  "
            ]
          },
          "metadata": {},
          "execution_count": 4
        }
      ]
    },
    {
      "cell_type": "code",
      "source": [
        "covid.info()"
      ],
      "metadata": {
        "colab": {
          "base_uri": "https://localhost:8080/"
        },
        "id": "kaPdM8kLe57V",
        "outputId": "848bcba6-45ba-46a0-b84a-632bcc1a31f6"
      },
      "execution_count": 5,
      "outputs": [
        {
          "output_type": "stream",
          "name": "stdout",
          "text": [
            "<class 'pandas.core.frame.DataFrame'>\n",
            "RangeIndex: 7790 entries, 0 to 7789\n",
            "Data columns (total 8 columns):\n",
            " #   Column             Non-Null Count  Dtype  \n",
            "---  ------             --------------  -----  \n",
            " 0   date               7790 non-null   object \n",
            " 1   area               7790 non-null   object \n",
            " 2   area_type          7790 non-null   object \n",
            " 3   variant_name       7790 non-null   object \n",
            " 4   specimens          7790 non-null   int64  \n",
            " 5   percentage         7790 non-null   float64\n",
            " 6   specimens_7d_avg   7730 non-null   float64\n",
            " 7   percentage_7d_avg  7730 non-null   float64\n",
            "dtypes: float64(3), int64(1), object(4)\n",
            "memory usage: 487.0+ KB\n"
          ]
        }
      ]
    },
    {
      "cell_type": "code",
      "source": [
        "msno.bar(covid)"
      ],
      "metadata": {
        "colab": {
          "base_uri": "https://localhost:8080/",
          "height": 447
        },
        "id": "51FsE9zJfZiI",
        "outputId": "78880611-6970-41e9-fe5c-257f63d0d1ad"
      },
      "execution_count": 6,
      "outputs": [
        {
          "output_type": "execute_result",
          "data": {
            "text/plain": [
              "<AxesSubplot:>"
            ]
          },
          "metadata": {},
          "execution_count": 6
        },
        {
          "output_type": "display_data",
          "data": {
            "text/plain": [
              "<Figure size 1800x720 with 3 Axes>"
            ],
            "image/png": "[encoded data removed]"
          },
          "metadata": {
            "needs_background": "light"
          }
        }
      ]
    },
    {
      "cell_type": "code",
      "source": [
        "# 결측치 없음"
      ],
      "metadata": {
        "id": "WsQAzTEEfllA"
      },
      "execution_count": null,
      "outputs": []
    },
    {
      "cell_type": "markdown",
      "source": [
        "2.탐색 & 전처리"
      ],
      "metadata": {
        "id": "nbACLmpOgsor"
      }
    },
    {
      "cell_type": "code",
      "source": [
        "# variant_name\n",
        "print(covid.variant_name.value_counts())\n",
        "covid['variant_name'].value_counts().plot.bar()"
      ],
      "metadata": {
        "colab": {
          "base_uri": "https://localhost:8080/",
          "height": 517
        },
        "id": "vgHG__jqg8rB",
        "outputId": "81cea7a4-ef10-4bda-ab98-5d0ff9967891"
      },
      "execution_count": 8,
      "outputs": [
        {
          "output_type": "stream",
          "name": "stdout",
          "text": [
            "Alpha      779\n",
            "Lambda     779\n",
            "Other      779\n",
            "Epsilon    779\n",
            "Omicron    779\n",
            "Beta       779\n",
            "Total      779\n",
            "Delta      779\n",
            "Mu         779\n",
            "Gamma      779\n",
            "Name: variant_name, dtype: int64\n"
          ]
        },
        {
          "output_type": "execute_result",
          "data": {
            "text/plain": [
              "<AxesSubplot:>"
            ]
          },
          "metadata": {},
          "execution_count": 8
        },
        {
          "output_type": "display_data",
          "data": {
            "text/plain": [
              "<Figure size 432x288 with 1 Axes>"
            ],
            "image/png": "[encoded data removed]"
          },
          "metadata": {
            "needs_background": "light"
          }
        }
      ]
    },
    {
      "cell_type": "code",
      "source": [
        "# variant_name\n",
        "print(covid.variant_name.value_counts())\n",
        "covid['variant_name'].value_counts().plot.bar()"
      ],
      "metadata": {
        "id": "5IsF26AbhQmn"
      },
      "execution_count": null,
      "outputs": []
    }
  ]
}